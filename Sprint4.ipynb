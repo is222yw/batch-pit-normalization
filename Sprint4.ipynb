{
 "cells": [
  {
   "cell_type": "code",
   "execution_count": 1,
   "metadata": {},
   "outputs": [],
   "source": [
    "import numpy as np\n",
    "from sklearn.preprocessing import StandardScaler\n",
    "from sklearn.model_selection import train_test_split\n",
    "import torch\n",
    "import torch.nn as nn\n",
    "import torch.optim as optim\n",
    "from bpitnorm.modules.BatchPitNormalization import BatchPitNorm1d\n",
    "\n",
    "device = \"cuda\" if torch.cuda.is_available() else \"cpu\"\n",
    "\n",
    "data = np.genfromtxt(\"Data/housing.csv\", delimiter=\",\", skip_header=1)[:, :-1]\n",
    "data = data[~(np.isnan(data)).any(axis=1)]\n",
    "def data_split(data):\n",
    "  X_train_raw, X_test_raw, y_train_raw, y_test_raw = train_test_split(data[:, :-1], data[:, -1], test_size=0.2, random_state=True)\n",
    "  y_train_raw = y_train_raw.reshape(-1, 1)\n",
    "  y_test_raw = y_test_raw.reshape(-1, 1)\n",
    "\n",
    "  scaler1 = StandardScaler()\n",
    "  scaler_x = scaler1.fit(X_train_raw)\n",
    "  X_train = scaler_x.transform(X_train_raw)\n",
    "  X_test = scaler_x.transform(X_test_raw)\n",
    "\n",
    "  scaler2 = StandardScaler()\n",
    "  scaler_y = scaler2.fit(y_train_raw)\n",
    "  y_train = scaler_y.transform(y_train_raw)\n",
    "  y_test = scaler_y.transform(y_test_raw)\n",
    "\n",
    "  X_train = torch.tensor(X_train, dtype=torch.float32, device=device)\n",
    "  y_train = torch.tensor(y_train, dtype=torch.float32, device=device).reshape(-1, 1)\n",
    "  X_test = torch.tensor(X_test, dtype=torch.float32).to(device=device)\n",
    "  y_test = torch.tensor(y_test, dtype=torch.float32).view(-1, 1).to(device=device)\n",
    "  return X_train, y_train, X_test, y_test, scaler_y"
   ]
  },
  {
   "cell_type": "code",
   "execution_count": 2,
   "metadata": {},
   "outputs": [],
   "source": [
    "import matplotlib.pyplot as plt\n",
    "from torch.utils.data import DataLoader\n",
    "from sklearn.metrics import r2_score\n",
    "from sklearn.metrics import mean_absolute_error\n",
    "\n",
    "def train_model(model, loops):\n",
    "    model.to(device=device)\n",
    "    r2score_lst = np.zeros(loops)\n",
    "    meanAbsoluteError_lst = np.zeros(loops)\n",
    "\n",
    "    for i in range(loops):\n",
    "        X_train, y_train, X_test, y_test, scaler_y = data_split(data)\n",
    "        loss_fn = nn.MSELoss().to(device=device)\n",
    "        optimizer = optim.Adam(model.parameters(), lr=0.001)\n",
    "\n",
    "        train_loader = DataLoader(list(zip(X_train, y_train)), batch_size=150, shuffle=True)\n",
    "        n_epochs = 30\n",
    "\n",
    "        best_mse = np.inf\n",
    "        mse_history = []\n",
    "        for epoch in range(n_epochs):\n",
    "            model.train()\n",
    "            for x_batch, y_batch in train_loader:\n",
    "                y_pred = model(x_batch)\n",
    "                loss = loss_fn(y_pred, y_batch)\n",
    "                optimizer.zero_grad()\n",
    "                loss.backward()\n",
    "                optimizer.step()\n",
    "            model.eval()\n",
    "            y_pred = model(X_test)\n",
    "            mse = loss_fn(y_pred, y_test)\n",
    "            mse = float(mse)\n",
    "            mse_history.append(mse)\n",
    "            if mse < best_mse:\n",
    "                    best_mse = mse\n",
    "        \n",
    "        model.eval()\n",
    "        y_test_inverse = scaler_y.inverse_transform(y_test.cpu())\n",
    "        y_pred = model(X_test)\n",
    "        y_pred = scaler_y.inverse_transform(y_pred.cpu().detach().numpy())\n",
    "        r2score = r2_score(y_test_inverse, y_pred)\n",
    "        r2score_lst[i] = r2score\n",
    "        meanAbsoluteError = mean_absolute_error(y_test_inverse, y_pred)\n",
    "        meanAbsoluteError_lst[i] = meanAbsoluteError\n",
    "    return r2score_lst, meanAbsoluteError_lst"
   ]
  },
  {
   "cell_type": "code",
   "execution_count": 3,
   "metadata": {},
   "outputs": [],
   "source": [
    "model1 = nn.Sequential(\n",
    "    nn.Linear(8, 100),\n",
    "    nn.ReLU(),\n",
    "    nn.Linear(100, 50),\n",
    "    nn.ReLU(),\n",
    "    nn.Linear(50, 10),\n",
    "    nn.Dropout(p=0.2),\n",
    "    nn.ReLU(),\n",
    "    nn.Linear(10, 1))\n",
    "\n",
    "model1.to(device=device)\n",
    "\n",
    "r2Score1, MAE1 = train_model(model1, 10)"
   ]
  },
  {
   "cell_type": "code",
   "execution_count": 4,
   "metadata": {},
   "outputs": [],
   "source": [
    "model2 = nn.Sequential(\n",
    "    nn.BatchNorm1d(8),\n",
    "    nn.Linear(8, 100),\n",
    "    nn.ReLU(),\n",
    "    nn.Dropout(p=0.3),\n",
    "    nn.Linear(100, 50),\n",
    "    nn.ReLU(),\n",
    "    nn.Linear(50, 10),\n",
    "    nn.ReLU(),\n",
    "    nn.Linear(10, 1))\n",
    "\n",
    "model2.to(device=device)\n",
    "\n",
    "r2Score2, MAE2 = train_model(model2, 10)"
   ]
  },
  {
   "cell_type": "code",
   "execution_count": 5,
   "metadata": {},
   "outputs": [],
   "source": [
    "model3 = nn.Sequential(\n",
    "    nn.Linear(8, 100),\n",
    "    nn.ReLU(),\n",
    "    nn.BatchNorm1d(100),\n",
    "    nn.Linear(100, 50),\n",
    "    nn.ReLU(),\n",
    "    nn.Linear(50, 10),\n",
    "    nn.ReLU(),\n",
    "    nn.Dropout(p=0.2),\n",
    "    nn.BatchNorm1d(10),\n",
    "    nn.Linear(10, 1))\n",
    "\n",
    "model3.to(device=device)\n",
    "\n",
    "r2Score3, MAE3 = train_model(model3, 10)"
   ]
  },
  {
   "cell_type": "code",
   "execution_count": 6,
   "metadata": {},
   "outputs": [
    {
     "data": {
      "image/png": "[encoded data removed]",
      "text/plain": [
       "<Figure size 640x480 with 1 Axes>"
      ]
     },
     "metadata": {},
     "output_type": "display_data"
    },
    {
     "name": "stdout",
     "output_type": "stream",
     "text": [
      "Mean house value from all houses:  207000.0\n"
     ]
    },
    {
     "data": {
      "image/png": "[encoded data removed]",
      "text/plain": [
       "<Figure size 640x480 with 1 Axes>"
      ]
     },
     "metadata": {},
     "output_type": "display_data"
    }
   ],
   "source": [
    "plt.boxplot([r2Score1, r2Score2, r2Score3], labels=[\"Model 1\", \"Model 2\", \"Model 3\"])\n",
    "plt.title(\"R2-score\")\n",
    "plt.show()\n",
    "print(\"Mean house value from all houses: \", round(np.mean(data[:, -1]), -3))\n",
    "plt.boxplot([MAE1, MAE2, MAE3], labels=[\"Model 1\", \"Model 2\", \"Model 3\"])\n",
    "plt.title(\"Mean absolute error\")\n",
    "plt.show()"
   ]
  },
  {
   "cell_type": "markdown",
   "metadata": {},
   "source": [
    "The mean house value is around 207 000, and the best models mean absolute error is around 34 200, which is around $16.5\\%$."
   ]
  }
 ],
 "metadata": {
  "kernelspec": {
   "display_name": "Python 3",
   "language": "python",
   "name": "python3"
  },
  "language_info": {
   "codemirror_mode": {
    "name": "ipython",
    "version": 3
   },
   "file_extension": ".py",
   "mimetype": "text/x-python",
   "name": "python",
   "nbconvert_exporter": "python",
   "pygments_lexer": "ipython3",
   "version": "3.11.0"
  }
 },
 "nbformat": 4,
 "nbformat_minor": 2
}
